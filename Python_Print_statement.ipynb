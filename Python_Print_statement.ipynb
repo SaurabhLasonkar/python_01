{
 "cells": [
  {
   "cell_type": "markdown",
   "id": "ef3f79cd",
   "metadata": {},
   "source": [
    "### Input statements"
   ]
  },
  {
   "cell_type": "code",
   "execution_count": 1,
   "id": "2a344719",
   "metadata": {},
   "outputs": [
    {
     "name": "stdout",
     "output_type": "stream",
     "text": [
      "enter a number1:20\n"
     ]
    }
   ],
   "source": [
    "n1=input(\"enter a number1:\")"
   ]
  },
  {
   "cell_type": "code",
   "execution_count": 2,
   "id": "6052232e",
   "metadata": {},
   "outputs": [
    {
     "name": "stdout",
     "output_type": "stream",
     "text": [
      "enter a number2:30\n"
     ]
    }
   ],
   "source": [
    "n2=input(\"enter a number2:\")"
   ]
  },
  {
   "cell_type": "code",
   "execution_count": 3,
   "id": "a94cd946",
   "metadata": {},
   "outputs": [
    {
     "name": "stdout",
     "output_type": "stream",
     "text": [
      "The addition of 20 and 30 is 2030\n"
     ]
    }
   ],
   "source": [
    "add = n1+n2\n",
    "print(\"The addition of {} and {} is {}\".format(n1,n2,add))"
   ]
  },
  {
   "cell_type": "markdown",
   "id": "ac82ec97",
   "metadata": {},
   "source": [
    "### It will fail bacause Keyboard take string input only we have to type cast"
   ]
  },
  {
   "cell_type": "code",
   "execution_count": 4,
   "id": "2b92ef43",
   "metadata": {},
   "outputs": [
    {
     "name": "stdout",
     "output_type": "stream",
     "text": [
      "enter a number1:100\n",
      "enter a number2:200\n",
      "The addition of 100 and 200 is 300\n"
     ]
    }
   ],
   "source": [
    "n1=input(\"enter a number1:\")\n",
    "n2=input(\"enter a number2:\")\n",
    "add = int(n1)+int(n2)\n",
    "print(\"The addition of {} and {} is {}\".format(n1,n2,add))"
   ]
  },
  {
   "cell_type": "markdown",
   "id": "71537a36",
   "metadata": {},
   "source": [
    "**OR**"
   ]
  },
  {
   "cell_type": "code",
   "execution_count": 5,
   "id": "9708a2e8",
   "metadata": {},
   "outputs": [
    {
     "name": "stdout",
     "output_type": "stream",
     "text": [
      "enter a number1:200\n",
      "enter a number2:400\n",
      "The addition of 200 and 400 is 600\n"
     ]
    }
   ],
   "source": [
    "n1=int(input(\"enter a number1:\"))\n",
    "n2=int(input(\"enter a number2:\"))\n",
    "add = n1+n2\n",
    "print(\"The addition of {} and {} is {}\".format(n1,n2,add))"
   ]
  },
  {
   "cell_type": "code",
   "execution_count": 7,
   "id": "a8e38e42",
   "metadata": {},
   "outputs": [],
   "source": [
    "#    ------------------------------------------------------------------------------------------------------------------------"
   ]
  },
  {
   "cell_type": "markdown",
   "id": "09e6953a",
   "metadata": {},
   "source": [
    "**Practice**"
   ]
  },
  {
   "cell_type": "code",
   "execution_count": 10,
   "id": "965e27fe",
   "metadata": {},
   "outputs": [
    {
     "name": "stdout",
     "output_type": "stream",
     "text": [
      "Enter a number 1 :200\n",
      "Enter a number 2 :10\n",
      "The addition of 200.0 and 10.0 is 210.0\n",
      "The addition of 200.0 and 10.0 is 2000.0\n",
      "The addition of 200.0 and 10.0 is 190.0\n",
      "The addition of 200.0 and 10.0 is 20.0\n"
     ]
    }
   ],
   "source": [
    "a = float(input(\"Enter a number 1 :\"))\n",
    "b = float(input(\"Enter a number 2 :\"))\n",
    "c = float((input(\"Enter a number 2 :\"))\n",
    "add = a + b + c\n",
    "mul= a*b\n",
    "sub=a-b\n",
    "div=a/b\n",
    "print(\"The addition of {} and {} is {}\".format(a,b,add))\n",
    "print(\"The addition of {} and {} is {}\".format(a,b,mul))\n",
    "print(\"The addition of {} and {} is {}\".format(a,b,sub))\n",
    "print(\"The addition of {} and {} is {}\".format(a,b,div))"
   ]
  },
  {
   "cell_type": "code",
   "execution_count": 14,
   "id": "e57ee937",
   "metadata": {},
   "outputs": [
    {
     "name": "stdout",
     "output_type": "stream",
     "text": [
      "enter n1:2\n",
      "enter n2:4\n",
      "enter n3:12\n",
      "The avg of three number is 6.0\n"
     ]
    }
   ],
   "source": [
    "n1=eval(input(\"enter n1:\"))\n",
    "n2=eval(input(\"enter n2:\"))\n",
    "n3=eval(input(\"enter n3:\"))\n",
    "avg = (n1+n2+n3)/3\n",
    "print(\"The avg of three number is\",avg)"
   ]
  },
  {
   "cell_type": "code",
   "execution_count": 1,
   "id": "0405d429",
   "metadata": {},
   "outputs": [
    {
     "name": "stdout",
     "output_type": "stream",
     "text": [
      "Enter a number 1:1000\n",
      "Enter a number 2:25\n",
      "The addition of 1000 and 25 is 1025\n",
      "The substraction of 1000 and 25 is 975\n",
      "The multiplication of 1000 and 25 is 25000\n",
      "The division of 1000 and 25 is 40.0\n"
     ]
    }
   ],
   "source": [
    "n1 = eval(input(\"Enter a number 1:\"))\n",
    "n2 = eval(input(\"Enter a number 2:\"))\n",
    "add = n1+n2\n",
    "sub = n1-n2\n",
    "mul = n1*n2\n",
    "div = n1/n2\n",
    "print(\"The addition of {} and {} is {}\".format(n1,n2,add))\n",
    "print(\"The substraction of {} and {} is {}\".format(n1,n2,sub))\n",
    "print(\"The multiplication of {} and {} is {}\".format(n1,n2,mul))\n",
    "print(\"The division of {} and {} is {}\".format(n1,n2,div))\n"
   ]
  },
  {
   "cell_type": "code",
   "execution_count": null,
   "id": "5072bb62",
   "metadata": {},
   "outputs": [],
   "source": []
  },
  {
   "cell_type": "code",
   "execution_count": null,
   "id": "d672a693",
   "metadata": {},
   "outputs": [],
   "source": []
  }
 ],
 "metadata": {
  "kernelspec": {
   "display_name": "Python 3 (ipykernel)",
   "language": "python",
   "name": "python3"
  },
  "language_info": {
   "codemirror_mode": {
    "name": "ipython",
    "version": 3
   },
   "file_extension": ".py",
   "mimetype": "text/x-python",
   "name": "python",
   "nbconvert_exporter": "python",
   "pygments_lexer": "ipython3",
   "version": "3.11.5"
  }
 },
 "nbformat": 4,
 "nbformat_minor": 5
}
